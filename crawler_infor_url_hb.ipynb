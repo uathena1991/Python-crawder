{
 "cells": [
  {
   "cell_type": "code",
   "execution_count": 1,
   "metadata": {
    "collapsed": false
   },
   "outputs": [
    {
     "name": "stdout",
     "output_type": "stream",
     "text": [
      "Automatic pdb calling has been turned ON\n"
     ]
    }
   ],
   "source": [
    "import urllib2\n",
    "import time\n",
    "import pdb\n",
    "import xlwt\n",
    "import requests, re\n",
    "from selenium import webdriver\n",
    "from selenium.webdriver.common.action_chains import ActionChains\n",
    "%pdb on"
   ]
  },
  {
   "cell_type": "code",
   "execution_count": 8,
   "metadata": {
    "collapsed": false
   },
   "outputs": [
    {
     "name": "stdout",
     "output_type": "stream",
     "text": [
      "9591\n",
      "http://www.std.gov.cn/hb/search/stdHBDetailed?id=66A17FF8BA3053BFE05397BE0A0AB67B\n",
      "\n"
     ]
    }
   ],
   "source": [
    "# read url from file (length should be 38594)\n",
    "with open('hb_url_pool_laptop.txt') as f:\n",
    "    url_pool = f.readlines()\n",
    "print len(url_pool)\n",
    "print url_pool[584]\n"
   ]
  },
  {
   "cell_type": "code",
   "execution_count": 9,
   "metadata": {
    "collapsed": false
   },
   "outputs": [],
   "source": [
    "output = xlwt.Workbook(encoding = 'utf-8')\n",
    "table = output.add_sheet('sheet1', cell_overwrite_ok = False)\n",
    "row_idx = 0"
   ]
  },
  {
   "cell_type": "code",
   "execution_count": null,
   "metadata": {
    "collapsed": false
   },
   "outputs": [],
   "source": []
  },
  {
   "cell_type": "code",
   "execution_count": null,
   "metadata": {
    "collapsed": true
   },
   "outputs": [],
   "source": []
  },
  {
   "cell_type": "code",
   "execution_count": null,
   "metadata": {
    "collapsed": false,
    "scrolled": false
   },
   "outputs": [
    {
     "name": "stdout",
     "output_type": "stream",
     "text": [
      "0\n",
      "100\n",
      "200\n",
      "300\n",
      "400\n",
      "500\n",
      "600\n"
     ]
    }
   ],
   "source": [
    "# for each page, find all the urls\n",
    "# url_pool = ['http://www.std.gov.cn/db/search/stdDBDetailed?id=5DDA8BA3779B18DEE05397BE0A0A95A7']\n",
    "idx = -1\n",
    "for url in url_pool:\n",
    "    # find all the urls    \n",
    "    idx += 1\n",
    "    while True:\n",
    "        time.sleep(1)\n",
    "        if idx %100 == 0:\n",
    "            print idx\n",
    "        try:\n",
    "            response = urllib2.urlopen(url)  \n",
    "        except urllib2.HTTPError, e:\n",
    "            print str(e.reason)\n",
    "            continue\n",
    "        break\n",
    "    html = response.read()\n",
    "#     print html\n",
    "    \n",
    "#     pdb.set_trace()\n",
    "    # initialize items to save\n",
    "    tag_sp, sp = [],[]\n",
    "    [tc_name, tc_number,tc_pubdate, tc_impdate, stop_date, tc_chistd, tc_interstd, tc_charge, tc_guikou, tc_type, draft_unit, drafter, backup_num, backup_file] = [],[],[],[],[],[],[],[],[],[],[],[],[],[]\n",
    "  \n",
    "    # check if the page exists\n",
    "    if \"行业标准\" not in html:\n",
    "        print 'The request page does not exist'\n",
    "        print url\n",
    "        html = []\n",
    "        continue\n",
    "    \n",
    "    sp = html.split(\"\\n\")\n",
    "    len_sp = len(sp)\n",
    "#     print sp\n",
    "    for i, info in enumerate(sp):\n",
    "        if i <=200 or i>=500:\n",
    "            continue\n",
    "#         print i,info\n",
    "        # name\n",
    "        if not tc_name and \"container main-body\" in info:\n",
    "#             pdb.set_trace()\n",
    "            tag_sp = sp[i + 5].split(',sans-serif;\">')\n",
    "            tc_name = tag_sp[-1].strip('</h4>\\r')\n",
    "#             print idx, tc_name\n",
    "            continue\n",
    "            \n",
    "        # standard number\n",
    "        if not tc_number and \"标准号\" in info:\n",
    "#             pdb.set_trace()\n",
    "            tag_sp = sp[i + 1].split('<dd class=\"basicInfo-item value\">')\n",
    "            tc_number = tag_sp[-1].strip(\"</dd>\\r\")\n",
    "#             print tc_number\n",
    "            continue\n",
    "            \n",
    "        if not tc_pubdate and \"发布日期\" in info:\n",
    "#             pdb.set_trace()\n",
    "            tag_sp = sp[i + 1].split('<dd class=\"basicInfo-item value\">')\n",
    "            tc_pubdate = tag_sp[-1].strip(\"</dd>\\r\")\n",
    "#             print tc_pubdate\n",
    "            continue\n",
    "        \n",
    "        if not tc_impdate and \"实施日期\" in info:\n",
    "#             tag_sp = sp[i + 1].split('<dd class=\"basicInfo-item value\">')\n",
    "#             pdb.set_trace()\n",
    "            tc_impdate = sp[i+2]\n",
    "#             print tc_impdate\n",
    "            continue\n",
    "            \n",
    "        if not tc_chistd and \"中国标准分类号\" in info:\n",
    "#             pdb.set_trace()\n",
    "            tag_sp = sp[i + 1].split('<dd class=\"basicInfo-item value\">')\n",
    "            tc_chistd = tag_sp[-1].strip(\"</dd>\\r\")\n",
    "#             print tc_chistd\n",
    "            continue        \n",
    "        \n",
    "        if not tc_interstd and \"国际标准分类号\" in info:\n",
    "#             pdb.set_trace()\n",
    "            tag_sp = sp[i + 2].split('</div> \" >')\n",
    "            tc_interstd = tag_sp[-1].strip('</span>\\r')\n",
    "#             tc_interstd = []\n",
    "#             for item in tag_sp:\n",
    "#                 if \"</div>\" in item:\n",
    "#                     tc_interstd.append(item.strip(\"</div>\")[0]) \n",
    "#             print tc_interstd\n",
    "            continue\n",
    "\n",
    "        if not tc_charge and '<dt class=\"basicInfo-item name\">主管部门</dt>' in info:\n",
    "#             pdb.set_trace()\n",
    "            tag_sp = sp[i + 1].split('<dd class=\"basicInfo-item value\"><a class=\"triggers\" href=\"\" CD_CODE=\"1\" target=\"_blank\">')\n",
    "            tc_charge = tag_sp[-1].strip(\"</a></dd>\\r\")\n",
    "#             print tc_charge\n",
    "            continue   \n",
    "    \n",
    "        if not tc_guikou and '<dt class=\"basicInfo-item name\">归口单位</dt>' in info:\n",
    "#             pdb.set_trace()\n",
    "            tag_sp = sp[i + 1].split('target=\"_blank\">')\n",
    "            tc_guikou = tag_sp[-1].strip(\"</a></dd>\\r\")\n",
    "#             print tc_charge\n",
    "            continue  \n",
    "\n",
    "        if not tc_type and \"行业分类\" in info:\n",
    "#             pdb.set_trace()\n",
    "            tag_sp = sp[i + 1].split('<dd class=\"basicInfo-item value\">')\n",
    "            tc_type = tag_sp[-1].strip(\"</dd>\\r\")\n",
    "#             print tc_type\n",
    "            continue    \n",
    "            \n",
    "        if not stop_date and \"标准状态\" in info:\n",
    "#             pdb.set_trace()\n",
    "            tag_sp = sp[i + 8].split('\">废止')\n",
    "            stop_date =  tag_sp[-1].strip(\"</span></a></li>\\r\")\n",
    "#             print stop_date\n",
    "            continue\n",
    "\n",
    "       \n",
    "        if not draft_unit and '<h2 class=\"title-text\">起草单位</h2>' in info:\n",
    "#             pdb.set_trace()\n",
    "            draft_unit = []\n",
    "            idx2 = 1\n",
    "            while '<dd class=\"basicInfo-item value\">' not in sp[i+idx2] and idx2 + i < len_sp:\n",
    "                idx2 += 1\n",
    "            while '</div>' not in sp[i+idx2] and idx2 + i < len_sp:\n",
    "                if '<dd class=\"basicInfo-item value\">' in sp[i+idx2]:\n",
    "                    tag_sp = sp[i + idx2].split('</span>')\n",
    "                    draft_unit.append(tag_sp[-1].strip(\"</a></dd>\\r\")+'\\r')\n",
    "                idx2 += 1\n",
    "#             print draft_unit\n",
    "            continue\n",
    "\n",
    "        if not drafter and '<h2 class=\"title-text\">起草人</h2>' in info:\n",
    "#             pdb.set_trace()\n",
    "            drafter = []\n",
    "            idx2 = 1\n",
    "            while '<dd class=\"basicInfo-item twod\"' not in sp[i+idx2] and idx2 + i < len_sp:\n",
    "                idx2 += 1\n",
    "            while '</div>' not in sp[i+idx2] and idx2 + i < len_sp:\n",
    "                if '<dd class=\"basicInfo-item twod\"' in sp[i+idx2]:\n",
    "                    tag_sp = sp[i + idx2].split('</span>')\n",
    "                    drafter.append(tag_sp[-1].strip(\"</dd>\\r\")+'\\r')\n",
    "                idx2 += 1\n",
    "#             print drafter\n",
    "            continue\n",
    " \n",
    "        if not backup_num and \"备案号\" in info:\n",
    "#             pdb.set_trace()\n",
    "            tag_sp = sp[i].split('备案号：')\n",
    "            backup_num = tag_sp[-1].strip(\"。</p>\\r\")\n",
    "#             print backup_num\n",
    "            continue\n",
    "            \n",
    "        if not backup_file and \"备案公告\" in info:\n",
    "#             pdb.set_trace()\n",
    "            tag_sp = sp[i+3].split(\"target='_blank'>\")\n",
    "            backup_file = tag_sp[-1].strip(\"</a>\\r\")\n",
    "#             print backup_file\n",
    "            continue    \n",
    "            \n",
    "    \n",
    "    output_tbl = [tc_name, tc_number,tc_pubdate, tc_impdate, stop_date, tc_chistd, tc_interstd, tc_charge, tc_guikou, tc_type, draft_unit, drafter, backup_num, backup_file]\n",
    "#     pdb.set_trace\n",
    "#     print output_tbl\n",
    "    if tc_number:\n",
    "        # encode unit-8 (chinese)\n",
    "        [table.write(row_idx, i, output_tbl[i]) for i in range(len(output_tbl))]\n",
    "        row_idx += 1\n",
    "        tc_number = []\n",
    "#         print >> output, \"\\t\".join(output_tbl)\n",
    "    if idx % 100 == 0:\n",
    "        output.save(\"/Volumes/data1/yefei_hb.xls\")\n"
   ]
  },
  {
   "cell_type": "raw",
   "metadata": {
    "collapsed": false
   },
   "source": []
  },
  {
   "cell_type": "code",
   "execution_count": 43,
   "metadata": {
    "collapsed": false
   },
   "outputs": [],
   "source": []
  },
  {
   "cell_type": "code",
   "execution_count": 46,
   "metadata": {
    "collapsed": true
   },
   "outputs": [],
   "source": []
  },
  {
   "cell_type": "code",
   "execution_count": null,
   "metadata": {
    "collapsed": false
   },
   "outputs": [],
   "source": []
  },
  {
   "cell_type": "code",
   "execution_count": null,
   "metadata": {
    "collapsed": true
   },
   "outputs": [],
   "source": []
  },
  {
   "cell_type": "code",
   "execution_count": null,
   "metadata": {
    "collapsed": false,
    "scrolled": true
   },
   "outputs": [],
   "source": []
  },
  {
   "cell_type": "code",
   "execution_count": null,
   "metadata": {
    "collapsed": true
   },
   "outputs": [],
   "source": []
  },
  {
   "cell_type": "code",
   "execution_count": null,
   "metadata": {
    "collapsed": true
   },
   "outputs": [],
   "source": []
  },
  {
   "cell_type": "code",
   "execution_count": null,
   "metadata": {
    "collapsed": false
   },
   "outputs": [],
   "source": []
  },
  {
   "cell_type": "code",
   "execution_count": null,
   "metadata": {
    "collapsed": true
   },
   "outputs": [],
   "source": []
  },
  {
   "cell_type": "code",
   "execution_count": null,
   "metadata": {
    "collapsed": true
   },
   "outputs": [],
   "source": []
  }
 ],
 "metadata": {
  "kernelspec": {
   "display_name": "Python 2",
   "language": "python",
   "name": "python2"
  },
  "language_info": {
   "codemirror_mode": {
    "name": "ipython",
    "version": 2
   },
   "file_extension": ".py",
   "mimetype": "text/x-python",
   "name": "python",
   "nbconvert_exporter": "python",
   "pygments_lexer": "ipython2",
   "version": "2.7.12"
  }
 },
 "nbformat": 4,
 "nbformat_minor": 2
}
